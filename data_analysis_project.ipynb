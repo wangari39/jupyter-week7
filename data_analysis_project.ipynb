{
 "cells": [
  {
   "cell_type": "markdown",
   "id": "6fb0f28f",
   "metadata": {},
   "source": [
    "# 📊 Data Analysis and Visualization Project\n",
    "This notebook follows a three-task structure to analyze a dataset using Pandas, Matplotlib, and Seaborn."
   ]
  },
  {
   "cell_type": "markdown",
   "id": "382bb1b4",
   "metadata": {},
   "source": [
    "## 🔍 Task 1: Load and Explore the Dataset\n",
    "We use the Iris dataset from `sklearn.datasets`, simulate loading from CSV, check for missing values, and explore structure."
   ]
  },
  {
   "cell_type": "code",
   "execution_count": null,
   "id": "cad5c898",
   "metadata": {},
   "outputs": [],
   "source": [
    "import pandas as pd # type: ignore\n",
    "import matplotlib.pyplot as plt # type: ignore\n",
    "import seaborn as sns # type: ignore\n",
    "from sklearn.datasets import load_iris # type: ignore\n",
    "\n",
    "sns.set(style='whitegrid')"
   ]
  },
  {
   "cell_type": "code",
   "execution_count": null,
   "id": "389082f3",
   "metadata": {},
   "outputs": [],
   "source": [
    "try:\n",
    "    iris = load_iris()\n",
    "    df = pd.DataFrame(data=iris.data, columns=iris.feature_names)\n",
    "    df['species'] = iris.target\n",
    "    df['species'] = df['species'].map(dict(zip(range(3), iris.target_names)))\n",
    "    print(\"✅ Dataset loaded successfully.\")\n",
    "except Exception as e:\n",
    "    print(\"❌ Failed to load dataset:\", str(e))"
   ]
  },
  {
   "cell_type": "code",
   "execution_count": null,
   "id": "0cdc5b70",
   "metadata": {},
   "outputs": [],
   "source": [
    "df.head()"
   ]
  },
  {
   "cell_type": "code",
   "execution_count": null,
   "id": "b49597df",
   "metadata": {},
   "outputs": [],
   "source": [
    "print(df.info())\n",
    "print(\"\\nMissing values:\\n\", df.isnull().sum())"
   ]
  },
  {
   "cell_type": "code",
   "execution_count": null,
   "id": "2e7dc156",
   "metadata": {},
   "outputs": [],
   "source": [
    "if df.isnull().values.any():\n",
    "    df = df.dropna()\n",
    "    print(\"Dropped rows with missing values.\")\n",
    "else:\n",
    "    print(\"No missing values found.\")"
   ]
  },
  {
   "cell_type": "markdown",
   "id": "43d95d9d",
   "metadata": {},
   "source": [
    "## 📈 Task 2: Basic Data Analysis\n",
    "We compute basic statistics and group by species to analyze feature differences."
   ]
  },
  {
   "cell_type": "code",
   "execution_count": null,
   "id": "6169bed5",
   "metadata": {},
   "outputs": [],
   "source": [
    "df.describe()"
   ]
  },
  {
   "cell_type": "code",
   "execution_count": null,
   "id": "72393f48",
   "metadata": {},
   "outputs": [],
   "source": [
    "df.groupby('species').mean()"
   ]
  },
  {
   "cell_type": "markdown",
   "id": "867b7ff8",
   "metadata": {},
   "source": [
    "## 📊 Task 3: Data Visualization\n",
    "Below are four types of visualizations with full labeling and custom styling."
   ]
  },
  {
   "cell_type": "code",
   "execution_count": null,
   "id": "39e7d0d7",
   "metadata": {},
   "outputs": [],
   "source": [
    "plt.figure(figsize=(10, 5))\n",
    "plt.plot(df.index, df['sepal length (cm)'], label='Sepal Length')\n",
    "plt.plot(df.index, df['petal length (cm)'], label='Petal Length')\n",
    "plt.title('Sepal and Petal Length Trend Over Samples')\n",
    "plt.xlabel('Sample Index')\n",
    "plt.ylabel('Length (cm)')\n",
    "plt.legend()\n",
    "plt.tight_layout()\n",
    "plt.show()"
   ]
  },
  {
   "cell_type": "code",
   "execution_count": null,
   "id": "133f1e18",
   "metadata": {},
   "outputs": [],
   "source": [
    "plt.figure(figsize=(8, 5))\n",
    "sns.barplot(x='species', y='petal length (cm)', data=df, palette='muted')\n",
    "plt.title('Average Petal Length per Species')\n",
    "plt.xlabel('Species')\n",
    "plt.ylabel('Petal Length (cm)')\n",
    "plt.tight_layout()\n",
    "plt.show()"
   ]
  },
  {
   "cell_type": "code",
   "execution_count": null,
   "id": "eeb7fa1b",
   "metadata": {},
   "outputs": [],
   "source": [
    "plt.figure(figsize=(8, 5))\n",
    "sns.histplot(df['sepal width (cm)'], bins=15, kde=True, color='skyblue')\n",
    "plt.title('Distribution of Sepal Width')\n",
    "plt.xlabel('Sepal Width (cm)')\n",
    "plt.ylabel('Frequency')\n",
    "plt.tight_layout()\n",
    "plt.show()"
   ]
  },
  {
   "cell_type": "code",
   "execution_count": null,
   "id": "746af058",
   "metadata": {},
   "outputs": [],
   "source": [
    "plt.figure(figsize=(8, 5))\n",
    "sns.scatterplot(x='sepal length (cm)', y='petal length (cm)', hue='species', data=df, palette='deep')\n",
    "plt.title('Sepal Length vs Petal Length')\n",
    "plt.xlabel('Sepal Length (cm)')\n",
    "plt.ylabel('Petal Length (cm)')\n",
    "plt.legend(title='Species')\n",
    "plt.tight_layout()\n",
    "plt.show()"
   ]
  }
 ],
 "metadata": {
  "language_info": {
   "name": "python"
  }
 },
 "nbformat": 4,
 "nbformat_minor": 5
}
